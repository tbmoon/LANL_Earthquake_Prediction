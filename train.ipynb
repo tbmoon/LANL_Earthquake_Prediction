{
 "cells": [
  {
   "cell_type": "code",
   "execution_count": 1,
   "metadata": {},
   "outputs": [],
   "source": [
    "import os\n",
    "import torch\n",
    "import torch.nn as nn\n",
    "import torch.optim as optim\n",
    "from torch.optim import lr_scheduler\n",
    "from data_loader import QuakeDataset, get_dataloader\n",
    "from models import QuakeModel"
   ]
  },
  {
   "cell_type": "code",
   "execution_count": 2,
   "metadata": {},
   "outputs": [],
   "source": [
    "device = torch.device('cuda' if torch.cuda.is_available() else 'cpu')"
   ]
  },
  {
   "cell_type": "code",
   "execution_count": 3,
   "metadata": {},
   "outputs": [],
   "source": [
    "save_step = 1\n",
    "n_epochs = 100\n",
    "learning_rate = 0.001\n",
    "weight_decay = 1e-5\n",
    "step_size = 10\n",
    "gamma = 0.1\n",
    "n_samples_train = 100000\n",
    "n_samples_valid = 10000\n",
    "n_layers = 6\n",
    "n_heads = 8\n",
    "time_length = 500\n",
    "time_size = 300\n",
    "freq_size = 128\n",
    "d_model = 64  # 512, 128\n",
    "d_ff = 256    # 2048, 512\n",
    "batch_size = 32\n",
    "num_workers = 4\n",
    "dropout = 0.1"
   ]
  },
  {
   "cell_type": "code",
   "execution_count": 4,
   "metadata": {},
   "outputs": [],
   "source": [
    "save_step = 1\n",
    "n_epochs = 100\n",
    "learning_rate = 0.0001\n",
    "weight_decay = 1e-5\n",
    "step_size = 10\n",
    "gamma = 0.1\n",
    "n_samples_train = 100000\n",
    "n_samples_valid = 10000\n",
    "n_layers = 3\n",
    "n_heads = 8\n",
    "time_length = 500\n",
    "time_size = 300\n",
    "freq_size = 128\n",
    "d_model = 32  # 512, 128\n",
    "d_ff = 128    # 2048, 512\n",
    "batch_size = 32\n",
    "num_workers = 4\n",
    "dropout = 0.1"
   ]
  },
  {
   "cell_type": "code",
   "execution_count": 5,
   "metadata": {},
   "outputs": [],
   "source": [
    "input_dir = '/run/media/hoosiki/WareHouse3/mtb/datasets/LANL'\n",
    "log_dir = './logs'\n",
    "model_dir = './models'\n",
    "\n",
    "csv_file_train = 'train_split.csv'\n",
    "csv_file_valid = 'valid_split.csv'\n",
    "\n",
    "os.makedirs(log_dir, exist_ok=True)\n",
    "os.makedirs(model_dir, exist_ok=True)"
   ]
  },
  {
   "cell_type": "code",
   "execution_count": 6,
   "metadata": {},
   "outputs": [],
   "source": [
    "model = QuakeModel(\n",
    "    n_layers=n_layers,\n",
    "    n_heads=n_heads,\n",
    "    freq_size=freq_size,\n",
    "    d_model=d_model,\n",
    "    d_ff=d_ff,\n",
    "    dropout=dropout)\n",
    "\n",
    "# This was important from their code. \n",
    "# Initialize parameters with Glorot / fan_avg.\n",
    "for p in model.parameters():\n",
    "    if p.dim() > 1:\n",
    "        nn.init.xavier_uniform_(p)\n",
    "\n",
    "model = model.to(device)\n",
    "\n",
    "checkpoint = torch.load('./models/model-epoch-02.ckpt')\n",
    "model.load_state_dict(checkpoint['state_dict'])"
   ]
  },
  {
   "cell_type": "code",
   "execution_count": 7,
   "metadata": {},
   "outputs": [],
   "source": [
    "criterion = nn.SmoothL1Loss()\n",
    "#criterion = nn.L1Loss()"
   ]
  },
  {
   "cell_type": "code",
   "execution_count": 8,
   "metadata": {},
   "outputs": [],
   "source": [
    "optimizer = optim.Adam(model.parameters(), lr=learning_rate, weight_decay=weight_decay)\n",
    "scheduler = lr_scheduler.StepLR(optimizer, step_size=step_size, gamma=gamma)"
   ]
  },
  {
   "cell_type": "code",
   "execution_count": null,
   "metadata": {
    "scrolled": true
   },
   "outputs": [
    {
     "name": "stdout",
     "output_type": "stream",
     "text": [
      "| TRAIN SET | Epoch [01/100], Loss: 1.6885, MAE: 2.1380\n",
      "| VALID SET | Epoch [01/100], Loss: 1.4876, MAE: 1.9646\n",
      "\n"
     ]
    }
   ],
   "source": [
    "for epoch in range(n_epochs):\n",
    "    \n",
    "    data_loaders, data_size = get_dataloader(\n",
    "        input_dir=input_dir,\n",
    "        csv_file_train=csv_file_train,\n",
    "        csv_file_valid=csv_file_valid,\n",
    "        n_samples_train=n_samples_train,\n",
    "        n_samples_valid=n_samples_valid,\n",
    "        time_length=time_length,\n",
    "        time_size=time_size,\n",
    "        batch_size=batch_size,\n",
    "        num_workers=num_workers)\n",
    "        \n",
    "    for phase in ['train', 'valid']:\n",
    "    \n",
    "        running_loss = 0.0\n",
    "        running_diff = 0.0\n",
    "        running_size = data_size[phase] / batch_size\n",
    "        \n",
    "        if phase == 'train':\n",
    "            scheduler.step()\n",
    "            model.train()\n",
    "        else:\n",
    "            model.eval()\n",
    "            \n",
    "        for batch_idx, batch_sample in enumerate(data_loaders[phase]):\n",
    "\n",
    "            Sxx = batch_sample['Sxx'].to(device)\n",
    "            target = batch_sample['target'].to(device)\n",
    "                \n",
    "            optimizer.zero_grad()\n",
    "                \n",
    "            with torch.set_grad_enabled(phase == 'train'):\n",
    "                    \n",
    "                output = model(Sxx)\n",
    "                diff = torch.mean(torch.abs(target-output), dim=0)\n",
    "                loss = criterion(output, target)\n",
    "                    \n",
    "                if phase == 'train':\n",
    "                    loss.backward()\n",
    "                    optimizer.step()\n",
    "                        \n",
    "            running_loss += loss.item()\n",
    "            running_diff += diff.item()\n",
    "            \n",
    "        # Print the average loss and accuracy in an epoch.\n",
    "        epoch_loss = running_loss / running_size\n",
    "        epoch_diff = running_diff / running_size\n",
    "\n",
    "        print('| {} SET | Epoch [{:02d}/{:02d}], Loss: {:.4f}, MAE: {:.4f}'\n",
    "              .format(phase.upper(), epoch+1, n_epochs, epoch_loss, epoch_diff))\n",
    "\n",
    "        # Log the loss and accuracy in an epoch.\n",
    "        with open(os.path.join(log_dir, '{}-log-epoch-{:02}.txt')\n",
    "                  .format(phase, epoch+1), 'w') as f:\n",
    "            f.write(str(epoch+1) + '\\t' +\n",
    "                    str(epoch_loss) + '\\t' +\n",
    "                    str(epoch_diff))\n",
    "\n",
    "    # Save the model check points.\n",
    "    if (epoch+1) % save_step == 0:\n",
    "        torch.save({'epoch': epoch+1, 'state_dict': model.state_dict()},\n",
    "                   os.path.join(model_dir, 'model-epoch-{:02d}.ckpt'.format(epoch+1)))\n",
    "    print()"
   ]
  },
  {
   "cell_type": "code",
   "execution_count": null,
   "metadata": {},
   "outputs": [],
   "source": []
  },
  {
   "cell_type": "code",
   "execution_count": null,
   "metadata": {},
   "outputs": [],
   "source": []
  },
  {
   "cell_type": "code",
   "execution_count": null,
   "metadata": {},
   "outputs": [],
   "source": []
  }
 ],
 "metadata": {
  "kernelspec": {
   "display_name": "Python 3",
   "language": "python",
   "name": "python3"
  },
  "language_info": {
   "codemirror_mode": {
    "name": "ipython",
    "version": 3
   },
   "file_extension": ".py",
   "mimetype": "text/x-python",
   "name": "python",
   "nbconvert_exporter": "python",
   "pygments_lexer": "ipython3",
   "version": "3.5.6"
  }
 },
 "nbformat": 4,
 "nbformat_minor": 2
}
