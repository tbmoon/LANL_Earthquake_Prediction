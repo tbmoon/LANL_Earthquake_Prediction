{
 "cells": [
  {
   "cell_type": "code",
   "execution_count": null,
   "metadata": {},
   "outputs": [],
   "source": [
    "import pandas as pd\n",
    "import numpy as np\n",
    "import torch\n",
    "from scipy.signal import spectrogram\n",
    "from models import QuakeModel"
   ]
  },
  {
   "cell_type": "code",
   "execution_count": null,
   "metadata": {},
   "outputs": [],
   "source": [
    "save_step = 1\n",
    "n_epochs = 100\n",
    "learning_rate = 0.0001\n",
    "weight_decay = 1e-5\n",
    "step_size = 10\n",
    "gamma = 0.1\n",
    "n_samples_train = 100000\n",
    "n_samples_valid = 10000\n",
    "n_layers = 3\n",
    "n_heads = 8\n",
    "time_length = 500\n",
    "time_size = 300\n",
    "freq_size = 128\n",
    "d_model = 32  # 512, 128\n",
    "d_ff = 128    # 2048, 512\n",
    "batch_size = 32\n",
    "num_workers = 4\n",
    "dropout = 0.1"
   ]
  },
  {
   "cell_type": "code",
   "execution_count": null,
   "metadata": {},
   "outputs": [],
   "source": [
    "model_name = 'model-epoch-02.ckpt'"
   ]
  },
  {
   "cell_type": "code",
   "execution_count": null,
   "metadata": {},
   "outputs": [],
   "source": [
    "input_dir = '/run/media/hoosiki/WareHouse3/mtb/datasets/LANL'\n",
    "checkpoint = torch.load('./models/' + model_name)"
   ]
  },
  {
   "cell_type": "code",
   "execution_count": null,
   "metadata": {},
   "outputs": [],
   "source": [
    "df_submission = pd.read_csv(input_dir + '/sample_submission.csv', index_col='seg_id', dtype={'time_to_failure': np.float32})\n",
    "#df_submission"
   ]
  },
  {
   "cell_type": "code",
   "execution_count": null,
   "metadata": {},
   "outputs": [],
   "source": [
    "model = QuakeModel(\n",
    "    n_layers=n_layers,\n",
    "    n_heads=n_heads,\n",
    "    freq_size=freq_size,\n",
    "    d_model=d_model,\n",
    "    d_ff=d_ff,\n",
    "    dropout=dropout)\n",
    "\n",
    "model.load_state_dict(checkpoint['state_dict'])\n",
    "model.eval()"
   ]
  },
  {
   "cell_type": "code",
   "execution_count": null,
   "metadata": {},
   "outputs": [],
   "source": [
    "nperseg = 256 # default \n",
    "noverlap = nperseg // 4 # default: nperseg // 8\n",
    "fs = 4000000 # raw signal sample rate is 4MHz\n",
    "window = 'triang'\n",
    "scaling = 'density' # {'density', 'spectrum'}\n",
    "detrend = 'linear' # {'linear', 'constant', False}\n",
    "eps = 1e-11"
   ]
  },
  {
   "cell_type": "code",
   "execution_count": null,
   "metadata": {},
   "outputs": [],
   "source": [
    "for i, seg_id in enumerate(df_submission.index):\n",
    "    #if i == 1:\n",
    "    #    break\n",
    "    seg = pd.read_csv(input_dir + '/test/' + seg_id + '.csv')\n",
    "    #x = seg['acoustic_data'].values.reshape(1, time_length, time_size)\n",
    "    \n",
    "    amplitude = seg['acoustic_data'].values\n",
    "    #print(amplitude)\n",
    "    f, t, Sxx = spectrogram(amplitude,\n",
    "                            nperseg=nperseg,\n",
    "                            noverlap=noverlap,\n",
    "                            fs=fs,\n",
    "                            window=window,\n",
    "                            scaling=scaling,\n",
    "                            detrend=detrend)\n",
    "    Sxx = np.log(Sxx + eps)\n",
    "    Sxx = Sxx[:-1, :]\n",
    "    Sxx = Sxx.transpose(1, 0)\n",
    "    \n",
    "    x = torch.from_numpy(Sxx).float()\n",
    "    x = x.unsqueeze(0)\n",
    "    y = model(x).item()\n",
    "    df_submission.time_to_failure[i] = y\n",
    "    \n",
    "df_submission.head(20)"
   ]
  },
  {
   "cell_type": "code",
   "execution_count": null,
   "metadata": {},
   "outputs": [],
   "source": [
    "df_submission.to_csv('submission.csv')"
   ]
  },
  {
   "cell_type": "code",
   "execution_count": null,
   "metadata": {},
   "outputs": [],
   "source": []
  },
  {
   "cell_type": "code",
   "execution_count": null,
   "metadata": {},
   "outputs": [],
   "source": []
  }
 ],
 "metadata": {
  "kernelspec": {
   "display_name": "Python 3",
   "language": "python",
   "name": "python3"
  },
  "language_info": {
   "codemirror_mode": {
    "name": "ipython",
    "version": 3
   },
   "file_extension": ".py",
   "mimetype": "text/x-python",
   "name": "python",
   "nbconvert_exporter": "python",
   "pygments_lexer": "ipython3",
   "version": "3.5.6"
  }
 },
 "nbformat": 4,
 "nbformat_minor": 2
}
